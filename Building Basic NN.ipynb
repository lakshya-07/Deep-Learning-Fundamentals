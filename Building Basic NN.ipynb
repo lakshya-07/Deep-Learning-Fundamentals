{
  "nbformat": 4,
  "nbformat_minor": 0,
  "metadata": {
    "colab": {
      "provenance": [],
      "gpuType": "T4"
    },
    "kernelspec": {
      "name": "python3",
      "display_name": "Python 3"
    },
    "language_info": {
      "name": "python"
    },
    "accelerator": "GPU"
  },
  "cells": [
    {
      "cell_type": "code",
      "execution_count": null,
      "metadata": {
        "id": "-a5BMYXcL_ft"
      },
      "outputs": [],
      "source": [
        "import numpy as np\n",
        "import math\n",
        "import matplotlib.pyplot as plt\n",
        "import matplotlib.colors\n",
        "import pandas as pd\n",
        "from sklearn.model_selection import train_test_split\n",
        "from sklearn.metrics import accuracy_score, mean_squared_error, log_loss\n",
        "from tqdm import tqdm_notebook\n",
        "import seaborn as sns\n",
        "import time\n",
        "from IPython.display import HTML\n",
        "import warnings\n",
        "warnings.filterwarnings('ignore')\n",
        "from sklearn.preprocessing import OneHotEncoder\n",
        "from sklearn.datasets import make_blobs\n",
        "import torch"
      ]
    },
    {
      "cell_type": "code",
      "source": [
        "torch.manual_seed(0)"
      ],
      "metadata": {
        "colab": {
          "base_uri": "https://localhost:8080/"
        },
        "id": "u3BKA_JIN2Hl",
        "outputId": "ffa85379-d461-42bf-8637-3427c7cd43c6"
      },
      "execution_count": null,
      "outputs": [
        {
          "output_type": "execute_result",
          "data": {
            "text/plain": [
              "<torch._C.Generator at 0x7aa9d3b11c30>"
            ]
          },
          "metadata": {},
          "execution_count": 2
        }
      ]
    },
    {
      "cell_type": "code",
      "source": [
        "my_cmap = matplotlib.colors.LinearSegmentedColormap.from_list(\"\", [\"green\", \"lightgreen\", \"brown\",\"orange\"])\n",
        "my_cmap"
      ],
      "metadata": {
        "colab": {
          "base_uri": "https://localhost:8080/",
          "height": 104
        },
        "id": "70DsjbRpN2Nk",
        "outputId": "c87f0e36-89be-4ea2-d874-295dc6edb61d"
      },
      "execution_count": null,
      "outputs": [
        {
          "output_type": "execute_result",
          "data": {
            "text/plain": [
              "<matplotlib.colors.LinearSegmentedColormap at 0x7aaa03ccdc90>"
            ],
            "text/html": [
              "<div style=\"vertical-align: middle;\"><strong></strong> </div><div class=\"cmap\"><img alt=\" colormap\" title=\"\" style=\"border: 1px solid #555;\" src=\"data:image/png;base64,iVBORw0KGgoAAAANSUhEUgAAAgAAAABACAYAAABsv8+/AAAAD3RFWHRUaXRsZQAgY29sb3JtYXCKlOmYAAAAFXRFWHREZXNjcmlwdGlvbgAgY29sb3JtYXAQltASAAAAMHRFWHRBdXRob3IATWF0cGxvdGxpYiB2My43LjEsIGh0dHBzOi8vbWF0cGxvdGxpYi5vcmcqr/hNAAAAMnRFWHRTb2Z0d2FyZQBNYXRwbG90bGliIHYzLjcuMSwgaHR0cHM6Ly9tYXRwbG90bGliLm9yZwQJZ2oAAAHbSURBVHic7dZLdoMwEEVBSSvPxg0ZGJwDjiIICZNXNeEYTNP+DG4tH2UupZRaaymllFbb5ljbyfPrnNb+dd7wOSfvG55f51+87655vd/z9H2Deb3f7bf3jeaVx/Q8TvP2+Hge6+v8tDm/vu91vTOn7ua95qzXd/Penz99e/5r/uj6YL/u86fd57+4X+c55/fbznvbb/c9968f3O/s8w/vd/T5y+dY/q7L37/UNl97Xefd3J9ft971m/dpo33/ap/Bft3v4679jn4fN+2z7rEcAIAkAgAAAgkAAAgkAAAgkAAAgEACAAACCQAACCQAACCQAACAQAIAAAIJAAAIJAAAIJAAAIBAAgAAAgkAAAgkAAAgkAAAgEACAAACCQAACCQAACCQAACAQAIAAAIJAAAIJAAAIJAAAIBAAgAAAgkAAAgkAAAgkAAAgEACAAACCQAACCQAACCQAACAQAIAAAIJAAAIJAAAIJAAAIBAAgAAAgkAAAgkAAAgkAAAgEACAAACCQAACCQAACCQAACAQAIAAAIJAAAIJAAAIJAAAIBAAgAAAgkAAAgkAAAgkAAAgEACAAACCQAACCQAACCQAACAQAIAAAIJAAAIJAAAIJAAAIBAAgAAAgkAAAj0CQMa1iOviJHNAAAAAElFTkSuQmCC\"></div><div style=\"vertical-align: middle; max-width: 514px; display: flex; justify-content: space-between;\"><div style=\"float: left;\"><div title=\"#008000ff\" style=\"display: inline-block; width: 1em; height: 1em; margin: 0; vertical-align: middle; border: 1px solid #555; background-color: #008000ff;\"></div> under</div><div style=\"margin: 0 auto; display: inline-block;\">bad <div title=\"#00000000\" style=\"display: inline-block; width: 1em; height: 1em; margin: 0; vertical-align: middle; border: 1px solid #555; background-color: #00000000;\"></div></div><div style=\"float: right;\">over <div title=\"#ffa500ff\" style=\"display: inline-block; width: 1em; height: 1em; margin: 0; vertical-align: middle; border: 1px solid #555; background-color: #ffa500ff;\"></div></div>"
            ],
            "image/png": "[encoded data removed]"
          },
          "metadata": {},
          "execution_count": 3
        }
      ]
    },
    {
      "cell_type": "markdown",
      "source": [
        "**Generate Dataset**"
      ],
      "metadata": {
        "id": "l05ftlzZOSFd"
      }
    },
    {
      "cell_type": "code",
      "source": [
        "data, labels = make_blobs(n_samples=1000, centers=4, n_features=2, random_state=42)\n",
        "data = data.astype(np.float32)\n",
        "labels = labels.astype(np.int64)\n",
        "print(data)\n",
        "print(labels)\n",
        "print(data.shape, labels.shape)"
      ],
      "metadata": {
        "colab": {
          "base_uri": "https://localhost:8080/"
        },
        "id": "vgddfODMN2Qk",
        "outputId": "cbe2da48-46b1-4d4b-9122-00f0fb73588a"
      },
      "execution_count": null,
      "outputs": [
        {
          "output_type": "stream",
          "name": "stdout",
          "text": [
            "[[-8.55504    7.064618 ]\n",
            " [-6.1375318 -6.580817 ]\n",
            " [-6.3213005 -6.8041043]\n",
            " ...\n",
            " [ 3.69048    4.6055517]\n",
            " [-7.4891396 -7.067081 ]\n",
            " [-9.400496   7.114301 ]]\n",
            "[3 2 2 1 1 2 1 2 2 1 1 3 0 2 2 2 0 0 0 1 1 3 3 3 1 1 0 0 2 1 2 2 2 0 0 3 2\n",
            " 1 3 3 1 2 1 3 1 3 0 1 3 1 2 0 1 3 0 3 0 0 0 2 2 0 2 3 1 0 2 2 1 0 3 0 1 2\n",
            " 1 3 1 0 1 0 2 0 0 0 1 3 2 2 0 0 0 0 1 1 3 1 3 0 1 2 1 3 3 0 3 1 1 0 2 0 3\n",
            " 2 1 1 1 1 2 3 2 1 0 2 3 1 3 2 1 3 2 1 0 2 1 3 1 3 0 2 1 1 0 0 3 3 3 1 1 0\n",
            " 0 0 0 3 2 2 0 1 0 1 1 3 2 0 1 2 0 0 1 2 3 2 1 0 0 1 0 3 2 3 2 3 1 1 0 2 0\n",
            " 2 1 3 0 2 1 0 1 1 0 3 2 2 2 3 0 2 1 0 1 1 2 0 1 2 2 3 2 2 1 0 2 0 3 1 3 3\n",
            " 2 0 3 0 1 2 2 0 0 2 0 3 2 2 3 2 2 1 2 3 2 1 3 0 1 0 1 1 1 1 3 1 1 2 0 2 2\n",
            " 1 1 1 3 1 3 3 2 1 0 3 1 0 1 2 0 3 1 3 2 1 3 2 3 1 2 0 0 2 0 3 3 0 2 2 2 0\n",
            " 2 2 2 0 2 3 2 3 0 2 3 1 3 3 2 3 3 1 2 3 1 0 3 3 2 2 2 1 3 2 0 2 0 0 2 2 3\n",
            " 3 2 0 3 1 3 1 3 2 2 1 0 1 3 3 0 0 0 0 0 1 0 0 2 1 0 3 1 2 2 1 3 1 3 3 3 2\n",
            " 1 1 1 1 0 1 0 2 1 0 2 1 3 1 1 3 0 3 2 3 2 0 3 0 3 3 2 1 1 1 0 3 0 1 1 3 1\n",
            " 0 0 3 1 0 3 2 3 2 2 0 3 1 0 1 0 0 0 3 2 3 1 2 0 0 3 0 3 2 3 2 2 0 3 3 3 1\n",
            " 0 0 1 1 2 3 3 3 1 0 3 0 2 2 1 0 1 1 0 0 1 1 2 2 1 0 3 1 1 3 3 2 3 0 1 0 3\n",
            " 1 3 2 1 0 1 2 0 1 0 2 0 3 0 3 2 2 3 3 3 0 3 0 1 2 1 1 0 1 1 2 2 0 2 1 3 0\n",
            " 0 0 0 1 1 1 3 1 1 2 1 0 0 1 0 3 1 0 0 1 1 3 2 3 3 0 3 1 0 1 3 3 3 0 0 0 1\n",
            " 1 3 2 0 0 1 0 0 0 2 3 1 1 1 0 1 2 2 2 1 3 3 3 1 0 3 3 3 0 3 1 3 2 2 3 3 3\n",
            " 3 0 2 2 0 2 0 1 1 1 1 0 2 3 2 0 3 0 1 3 0 2 3 2 3 1 0 3 2 1 0 1 3 2 2 3 2\n",
            " 1 2 2 3 0 1 2 0 2 3 1 3 2 0 2 3 0 1 2 3 3 2 2 3 3 1 3 1 0 2 0 1 3 0 3 1 2\n",
            " 0 0 3 0 2 2 3 0 3 3 3 1 3 0 1 2 1 1 1 1 2 1 0 0 3 1 0 1 0 2 2 3 1 3 0 2 1\n",
            " 2 2 3 1 3 2 2 3 3 0 0 3 3 0 2 3 1 0 2 2 3 0 0 3 2 3 0 1 3 1 1 2 0 2 3 1 2\n",
            " 2 3 3 2 2 0 0 2 2 2 1 0 3 3 2 2 3 2 2 2 3 3 2 0 1 2 0 0 0 3 1 2 1 0 2 3 0\n",
            " 0 2 3 1 2 0 1 3 0 2 3 2 2 3 0 3 2 0 0 0 3 2 3 3 1 3 1 0 1 1 3 0 1 0 0 1 3\n",
            " 1 3 2 3 2 0 2 3 3 1 0 1 2 2 3 0 1 2 0 3 1 0 0 3 2 1 1 1 2 2 1 2 3 3 1 2 2\n",
            " 3 2 2 3 1 3 3 2 2 0 3 0 2 3 0 3 2 3 0 3 2 1 1 2 2 2 0 0 0 0 3 3 2 1 1 2 0\n",
            " 2 2 2 2 2 2 0 3 3 1 1 3 3 0 1 0 1 3 0 3 0 3 0 1 2 2 2 3 0 2 1 3 3 3 2 0 1\n",
            " 3 1 0 0 1 2 0 0 3 1 3 3 1 0 0 3 0 2 2 2 1 1 0 0 1 2 0 0 1 0 2 1 1 3 0 1 2\n",
            " 3 1 2 0 3 1 3 2 0 2 2 0 2 3 2 3 0 3 1 1 1 2 3 0 0 0 1 1 1 0 1 2 1 2 0 1 2\n",
            " 3]\n",
            "(1000, 2) (1000,)\n"
          ]
        }
      ]
    },
    {
      "cell_type": "code",
      "source": [
        "plt.scatter(data[:,0], data[:,1], c=labels, cmap=my_cmap)\n",
        "plt.show()"
      ],
      "metadata": {
        "colab": {
          "base_uri": "https://localhost:8080/",
          "height": 430
        },
        "id": "1Epngq1iN2TT",
        "outputId": "4a608b38-0c48-4c40-9bf9-292cb295f1bd"
      },
      "execution_count": null,
      "outputs": [
        {
          "output_type": "display_data",
          "data": {
            "text/plain": [
              "<Figure size 640x480 with 1 Axes>"
            ],
            "image/png": "[encoded data removed]"
          },
          "metadata": {}
        }
      ]
    },
    {
      "cell_type": "code",
      "source": [
        "X_train, X_val, Y_train, Y_val = train_test_split(data, labels, stratify=labels, test_size=0.2, random_state=42)\n",
        "print(X_train.shape, X_val.shape, labels.shape)"
      ],
      "metadata": {
        "colab": {
          "base_uri": "https://localhost:8080/"
        },
        "id": "RNXJaILqN2YN",
        "outputId": "90330d87-0582-4788-fb1e-d7fc7150e905"
      },
      "execution_count": null,
      "outputs": [
        {
          "output_type": "stream",
          "name": "stdout",
          "text": [
            "(800, 2) (200, 2) (1000,)\n"
          ]
        }
      ]
    },
    {
      "cell_type": "markdown",
      "source": [
        "**Using torch tensors and autograd**"
      ],
      "metadata": {
        "id": "9sBo_cexQdXz"
      }
    },
    {
      "cell_type": "code",
      "source": [
        "X_train, Y_train, X_val, Y_val = map(torch.tensor, (X_train, Y_train, X_val, Y_val))\n",
        "print(X_train.shape, Y_train.shape, X_val.shape, Y_val.shape)"
      ],
      "metadata": {
        "colab": {
          "base_uri": "https://localhost:8080/"
        },
        "id": "wE7G48jfQZxT",
        "outputId": "fafe078e-9edf-43fb-fd33-40524c086824"
      },
      "execution_count": null,
      "outputs": [
        {
          "output_type": "stream",
          "name": "stdout",
          "text": [
            "torch.Size([800, 2]) torch.Size([800]) torch.Size([200, 2]) torch.Size([200])\n"
          ]
        }
      ]
    },
    {
      "cell_type": "code",
      "source": [
        "def model(x):\n",
        "  a1 = torch.matmul(x, weights1) + bias1 # (N, 2) x (2, 2)\n",
        "  h1 = a1.sigmoid() # (N, 2)\n",
        "  a2 = torch.matmul(h1, weights2) + bias2 # (N, 2) x (2, 4) -> (N, 4)\n",
        "  h2 = a2.exp()/a2.exp().sum(-1).unsqueeze(-1) # (N, 4)\n",
        "  return h2"
      ],
      "metadata": {
        "id": "yy6-dq_RQZ2z"
      },
      "execution_count": null,
      "outputs": []
    },
    {
      "cell_type": "code",
      "source": [
        "y_hat = torch.tensor([[0.1, 0.2, 0.3, 0.4], [0.8, 0.1, 0.05, 0.05]])\n",
        "y = torch.tensor([2, 0])\n",
        "print(y_hat,\"\\n\",y)\n",
        "(-y_hat[range(y_hat.shape[0]), y].log()).mean().item()\n",
        "(torch.argmax(y_hat, dim=1) == y).float().mean().item()"
      ],
      "metadata": {
        "colab": {
          "base_uri": "https://localhost:8080/"
        },
        "id": "zIijEXTUQJvt",
        "outputId": "227c6e7b-cd55-4266-d147-bdbafc982517"
      },
      "execution_count": null,
      "outputs": [
        {
          "output_type": "stream",
          "name": "stdout",
          "text": [
            "tensor([[0.1000, 0.2000, 0.3000, 0.4000],\n",
            "        [0.8000, 0.1000, 0.0500, 0.0500]]) \n",
            " tensor([2, 0])\n"
          ]
        },
        {
          "output_type": "execute_result",
          "data": {
            "text/plain": [
              "0.5"
            ]
          },
          "metadata": {},
          "execution_count": 9
        }
      ]
    },
    {
      "cell_type": "code",
      "source": [
        "def loss_fn(y_hat, y):\n",
        "  return -(y_hat[range(y.shape[0]), y].log()).mean()"
      ],
      "metadata": {
        "id": "v6GxcdXGQJyc"
      },
      "execution_count": null,
      "outputs": []
    },
    {
      "cell_type": "code",
      "source": [
        "def accuracy(y_hat, y):\n",
        "  pred = torch.argmax(y_hat, dim=1)\n",
        "  return (pred == y).float().mean()"
      ],
      "metadata": {
        "id": "5fzZ6wjKQJ1P"
      },
      "execution_count": null,
      "outputs": []
    },
    {
      "cell_type": "code",
      "source": [
        "torch.manual_seed(0)\n",
        "weights1 = torch.randn(2, 2) / math.sqrt(2)\n",
        "weights1.requires_grad_()\n",
        "bias1 = torch.zeros(2, requires_grad=True)\n",
        "weights2 = torch.randn(2, 4) / math.sqrt(2)\n",
        "weights2.requires_grad_()\n",
        "bias2 = torch.zeros(4, requires_grad=True)\n",
        "learning_rate = 0.2\n",
        "epochs = 10000\n",
        "X_train = X_train.float()\n",
        "Y_train = Y_train.long()\n",
        "loss_arr = []\n",
        "acc_arr = []\n",
        "for epoch in range(epochs):\n",
        "  y_hat = model(X_train)\n",
        "  loss = loss_fn(y_hat, Y_train)\n",
        "  loss.backward()\n",
        "  loss_arr.append(loss.item())\n",
        "  acc_arr.append(accuracy(y_hat, Y_train))\n",
        "\n",
        "  with torch.no_grad():\n",
        "    weights1 -= weights1.grad * learning_rate\n",
        "    bias1 -= bias1.grad * learning_rate\n",
        "    weights2 -= weights2.grad * learning_rate\n",
        "    bias2 -= bias2.grad * learning_rate\n",
        "    weights1.grad.zero_()\n",
        "    bias1.grad.zero_()\n",
        "    weights2.grad.zero_()\n",
        "    bias2.grad.zero_()\n",
        "\n",
        "plt.plot(loss_arr, 'r-')\n",
        "plt.plot(acc_arr, 'b-')\n",
        "plt.show()\n",
        "print('Loss before training', loss_arr[0])\n",
        "print('Loss after training', loss_arr[-1])\n",
        "print('Accuracy before training', acc_arr[0])\n",
        "print('Accuracy after training', acc_arr[-1])"
      ],
      "metadata": {
        "colab": {
          "base_uri": "https://localhost:8080/",
          "height": 503
        },
        "id": "P5IdZ1L9Sozj",
        "outputId": "6173cbfa-9972-4b0a-967b-b799362a8246"
      },
      "execution_count": null,
      "outputs": [
        {
          "output_type": "display_data",
          "data": {
            "text/plain": [
              "<Figure size 640x480 with 1 Axes>"
            ],
            "image/png": "[encoded data removed]"
          },
          "metadata": {}
        },
        {
          "output_type": "stream",
          "name": "stdout",
          "text": [
            "Loss before training 1.502445936203003\n",
            "Loss after training 0.005871015600860119\n",
            "Accuracy before training tensor(0.2500)\n",
            "Accuracy after training tensor(1.)\n"
          ]
        }
      ]
    },
    {
      "cell_type": "code",
      "source": [
        "import torch.nn.functional as F"
      ],
      "metadata": {
        "id": "cbJCafa3So21"
      },
      "execution_count": null,
      "outputs": []
    },
    {
      "cell_type": "code",
      "source": [
        "torch.manual_seed(0)\n",
        "\n",
        "weights1 = torch.randn(2, 2) / math.sqrt(2)\n",
        "weights1.requires_grad_()\n",
        "bias1 = torch.zeros(2, requires_grad=True)\n",
        "weights2 = torch.randn(2, 4) / math.sqrt(2)\n",
        "weights2.requires_grad_()\n",
        "bias2 = torch.zeros(4, requires_grad=True)\n",
        "learning_rate = 0.2\n",
        "epochs = 10000\n",
        "loss_arr = []\n",
        "acc_arr = []\n",
        "\n",
        "for epoch in range(epochs):\n",
        "  y_hat = model(X_train)\n",
        "  loss = F.cross_entropy(y_hat, Y_train)\n",
        "  loss.backward()\n",
        "  loss_arr.append(loss.item())\n",
        "  acc_arr.append(accuracy(y_hat, Y_train))\n",
        "\n",
        "  with torch.no_grad():\n",
        "    weights1 -= weights1.grad * learning_rate\n",
        "    bias1 -= bias1.grad * learning_rate\n",
        "    weights2 -= weights2.grad * learning_rate\n",
        "    bias2 -= bias2.grad * learning_rate\n",
        "    weights1.grad.zero_()\n",
        "    bias1.grad.zero_()\n",
        "    weights2.grad.zero_()\n",
        "    bias2.grad.zero_()\n",
        "\n",
        "plt.plot(loss_arr, 'r-')\n",
        "plt.plot(acc_arr, 'b-')\n",
        "plt.show()\n",
        "print('Loss before training', loss_arr[0])\n",
        "print('Loss after training', loss_arr[-1])\n",
        "print('Accuracy before training', acc_arr[0])\n",
        "print('Accuracy after training', acc_arr[-1])"
      ],
      "metadata": {
        "colab": {
          "base_uri": "https://localhost:8080/",
          "height": 503
        },
        "id": "SLJfgRigSo6D",
        "outputId": "711de868-a87d-47f4-95f4-7aa60057c856"
      },
      "execution_count": null,
      "outputs": [
        {
          "output_type": "display_data",
          "data": {
            "text/plain": [
              "<Figure size 640x480 with 1 Axes>"
            ],
            "image/png": "[encoded data removed]"
          },
          "metadata": {}
        },
        {
          "output_type": "stream",
          "name": "stdout",
          "text": [
            "Loss before training 1.3973548412322998\n",
            "Loss after training 0.7501035332679749\n",
            "Accuracy before training tensor(0.2500)\n",
            "Accuracy after training tensor(1.)\n"
          ]
        }
      ]
    },
    {
      "cell_type": "code",
      "source": [
        "import torch.nn as nn"
      ],
      "metadata": {
        "id": "a2GdprFnSo9V"
      },
      "execution_count": null,
      "outputs": []
    },
    {
      "cell_type": "code",
      "source": [
        "class FirstNetwork(nn.Module):\n",
        "\n",
        " def __init__(self):\n",
        "  super().__init__()\n",
        "  torch.manual_seed(0)\n",
        "  self.weights1 = nn.Parameter(torch.randn(2, 2) / math.sqrt(2))\n",
        "  self.bias1 = nn.Parameter(torch.zeros(2))\n",
        "  self.weights2 = nn.Parameter(torch.randn(2, 4) / math.sqrt(2))\n",
        "  self.bias2 = nn.Parameter(torch.zeros(4))\n",
        "\n",
        " def forward(self, X):\n",
        "  a1 = torch.matmul(X, self.weights1) + self.bias1\n",
        "  h1 = a1.sigmoid()\n",
        "  a2 = torch.matmul(h1, self.weights2) + self.bias2\n",
        "  h2 = a2.exp()/a2.exp().sum(-1).unsqueeze(-1)\n",
        "  return h2\n"
      ],
      "metadata": {
        "id": "XtKx5VlNQJ3t"
      },
      "execution_count": null,
      "outputs": []
    },
    {
      "cell_type": "code",
      "source": [
        "def fit(epochs = 1000, learning_rate = 1):\n",
        "  loss_arr = []\n",
        "  acc_arr = []\n",
        "  for epoch in range(epochs):\n",
        "    y_hat = fn(X_train)\n",
        "    loss = F.cross_entropy(y_hat, Y_train)\n",
        "    loss_arr.append(loss.item())\n",
        "    acc_arr.append(accuracy(y_hat, Y_train))\n",
        "\n",
        "    loss.backward()\n",
        "    with torch.no_grad():\n",
        "      for param in fn.parameters():\n",
        "        param -= learning_rate * param.grad\n",
        "      fn.zero_grad()\n",
        "\n",
        "plt.plot(loss_arr, 'r-')\n",
        "plt.plot(acc_arr, 'b-')\n",
        "plt.show()\n",
        "print('Loss before training', loss_arr[0])\n",
        "print('Loss after training', loss_arr[-1])\n",
        "print('Accuracy before training', acc_arr[0])\n",
        "print('Accuracy after training', acc_arr[-1])"
      ],
      "metadata": {
        "colab": {
          "base_uri": "https://localhost:8080/",
          "height": 503
        },
        "id": "7MTAppUrQJ6D",
        "outputId": "b53c6176-e494-4834-c373-e836375e574e"
      },
      "execution_count": null,
      "outputs": [
        {
          "output_type": "display_data",
          "data": {
            "text/plain": [
              "<Figure size 640x480 with 1 Axes>"
            ],
            "image/png": "[encoded data removed]"
          },
          "metadata": {}
        },
        {
          "output_type": "stream",
          "name": "stdout",
          "text": [
            "Loss before training 1.3973548412322998\n",
            "Loss after training 0.7501035332679749\n",
            "Accuracy before training tensor(0.2500)\n",
            "Accuracy after training tensor(1.)\n"
          ]
        }
      ]
    },
    {
      "cell_type": "code",
      "source": [
        "fn = FirstNetwork()\n",
        "fit()"
      ],
      "metadata": {
        "id": "chaPVUy6VOtv"
      },
      "execution_count": null,
      "outputs": []
    },
    {
      "cell_type": "markdown",
      "source": [
        "**Using NN.Linear and Optim**"
      ],
      "metadata": {
        "id": "cmd0g48kV9S4"
      }
    },
    {
      "cell_type": "code",
      "source": [
        "class FirstNetwork_v1(nn.Module):\n",
        "  def __init__(self):\n",
        "    super().__init__()\n",
        "    torch.manual_seed(0)\n",
        "    self.lin1 = nn.Linear(2, 2)\n",
        "    self.lin2 = nn.Linear(2, 4)\n",
        "\n",
        "  def forward(self, X):\n",
        "   a1 = self.lin1(X)\n",
        "   h1 = a1.sigmoid()\n",
        "   a2 = self.lin2(h1)\n",
        "   h2 = a2.exp()/a2.exp().sum(-1).unsqueeze(-1)\n",
        "   return h2"
      ],
      "metadata": {
        "id": "T81n-_l6VOww"
      },
      "execution_count": null,
      "outputs": []
    },
    {
      "cell_type": "code",
      "source": [
        "\n",
        "fn = FirstNetwork_v1()\n",
        "fit()"
      ],
      "metadata": {
        "id": "QZ_zsYI3VOzv"
      },
      "execution_count": null,
      "outputs": []
    },
    {
      "cell_type": "code",
      "source": [
        "from torch import optim"
      ],
      "metadata": {
        "id": "_K3fbZ0kVO10"
      },
      "execution_count": null,
      "outputs": []
    },
    {
      "cell_type": "code",
      "source": [
        "def fit_v1(epochs = 1000, learning_rate = 1):\n",
        "  loss_arr = []\n",
        "  acc_arr = []\n",
        "  opt = optim.SGD(fn.parameters(), lr=learning_rate)\n",
        "\n",
        "  for epoch in range(epochs):\n",
        "    y_hat = fn(X_train)\n",
        "    loss = F.cross_entropy(y_hat, Y_train)\n",
        "    loss_arr.append(loss.item())\n",
        "    acc_arr.append(accuracy(y_hat, Y_train))\n",
        "    loss.backward()\n",
        "    opt.step()\n",
        "    opt.zero_grad()\n",
        "\n",
        "plt.plot(loss_arr, 'r-')\n",
        "plt.plot(acc_arr, 'b-')\n",
        "plt.show()\n",
        "print('Loss before training', loss_arr[0])\n",
        "print('Loss after training', loss_arr[-1])\n",
        "print('Accuracy before training', acc_arr[0])\n",
        "print('Accuracy after training', acc_arr[-1])\n"
      ],
      "metadata": {
        "colab": {
          "base_uri": "https://localhost:8080/",
          "height": 503
        },
        "id": "Hsh8E-9RVO6H",
        "outputId": "9b998eac-cee9-467a-f5bb-9b6843f3a945"
      },
      "execution_count": null,
      "outputs": [
        {
          "output_type": "display_data",
          "data": {
            "text/plain": [
              "<Figure size 640x480 with 1 Axes>"
            ],
            "image/png": "[encoded data removed]"
          },
          "metadata": {}
        },
        {
          "output_type": "stream",
          "name": "stdout",
          "text": [
            "Loss before training 1.3973548412322998\n",
            "Loss after training 0.7501035332679749\n",
            "Accuracy before training tensor(0.2500)\n",
            "Accuracy after training tensor(1.)\n"
          ]
        }
      ]
    },
    {
      "cell_type": "code",
      "source": [
        "fn = FirstNetwork_v1()\n",
        "fit_v1()\n"
      ],
      "metadata": {
        "id": "Qmk3Zy53W9i0"
      },
      "execution_count": null,
      "outputs": []
    },
    {
      "cell_type": "markdown",
      "source": [
        "**Using NN.Sequential**"
      ],
      "metadata": {
        "id": "PY1qb2RGXLMy"
      }
    },
    {
      "cell_type": "code",
      "source": [
        "\n",
        "class FirstNetwork_v2(nn.Module):\n",
        "  def __init__(self):\n",
        "    super().__init__()\n",
        "    torch.manual_seed(0)\n",
        "    self.net = nn.Sequential(\n",
        "        nn.Linear(2, 2),\n",
        "        nn.Sigmoid(),\n",
        "        nn.Linear(2, 4),\n",
        "        nn.Softmax()\n",
        " )\n",
        "  def forward(self, X):\n",
        "    return self.net(X)\n"
      ],
      "metadata": {
        "id": "WjVbdV3ZW9ob"
      },
      "execution_count": null,
      "outputs": []
    },
    {
      "cell_type": "code",
      "source": [
        "fn = FirstNetwork_v2()\n",
        "fit_v1()"
      ],
      "metadata": {
        "id": "MoSoSacqW9ur"
      },
      "execution_count": null,
      "outputs": []
    },
    {
      "cell_type": "code",
      "source": [
        "def fit_v2(x, y, model, opt, loss_fn, epochs = 1000):\n",
        "\n",
        "  for epoch in range(epochs):\n",
        "    loss = loss_fn(model(x), y)\n",
        "    loss.backward()\n",
        "    opt.step()\n",
        "    opt.zero_grad()\n",
        "  return loss.item()\n"
      ],
      "metadata": {
        "id": "KVxcNAO-XvZj"
      },
      "execution_count": null,
      "outputs": []
    },
    {
      "cell_type": "code",
      "source": [
        "fn = FirstNetwork_v2()\n",
        "loss_fn = F.cross_entropy\n",
        "opt = optim.SGD(fn.parameters(), lr=1)\n",
        "fit_v2(X_train, Y_train, fn, opt, loss_fn)"
      ],
      "metadata": {
        "colab": {
          "base_uri": "https://localhost:8080/"
        },
        "id": "Vq8Pr00ZXveN",
        "outputId": "426fdc0d-6989-4f19-dbed-1c942a3ee2a5"
      },
      "execution_count": null,
      "outputs": [
        {
          "output_type": "execute_result",
          "data": {
            "text/plain": [
              "0.7556746006011963"
            ]
          },
          "metadata": {},
          "execution_count": 27
        }
      ]
    },
    {
      "cell_type": "markdown",
      "source": [
        "**Running it on GPUs**"
      ],
      "metadata": {
        "id": "idTi1EaFYX4j"
      }
    },
    {
      "cell_type": "code",
      "source": [
        "device = torch.device(\"cuda\")\n",
        "\n",
        "X_train=X_train.to(device)\n",
        "Y_train=Y_train.to(device)\n",
        "fn = FirstNetwork_v2()\n",
        "fn.to(device)\n",
        "tic = time.time()\n",
        "print('Final loss', fit_v2(X_train, Y_train, fn, opt, loss_fn))\n",
        "toc = time.time()\n",
        "print('Time taken', toc - tic)\n"
      ],
      "metadata": {
        "colab": {
          "base_uri": "https://localhost:8080/"
        },
        "id": "DSQ-9FYhXvjN",
        "outputId": "c7256684-0114-4d5c-cd0c-52e90f53772f"
      },
      "execution_count": null,
      "outputs": [
        {
          "output_type": "stream",
          "name": "stdout",
          "text": [
            "Final loss 1.421441912651062\n",
            "Time taken 1.3778104782104492\n"
          ]
        }
      ]
    },
    {
      "cell_type": "code",
      "source": [
        "class FirstNetwork_v3(nn.Module):\n",
        "\n",
        "  def __init__(self):\n",
        "    super().__init__()\n",
        "    torch.manual_seed(0)\n",
        "    self.net = nn.Sequential(\n",
        "        nn.Linear(2, 1024*4),\n",
        "        nn.Sigmoid(),\n",
        "        nn.Linear(1024*4, 4),\n",
        "        nn.Softmax()\n",
        " )\n",
        "  def forward(self, X):\n",
        "    return self.net(X)\n"
      ],
      "metadata": {
        "id": "_rtyqrxHYk-P"
      },
      "execution_count": null,
      "outputs": []
    },
    {
      "cell_type": "code",
      "source": [
        "device = torch.device(\"cpu\")\n",
        "X_train=X_train.to(device)\n",
        "Y_train=Y_train.to(device)\n",
        "fn = FirstNetwork_v3()\n",
        "fn.to(device)\n",
        "tic = time.time()\n",
        "print('Final loss', fit_v2(X_train, Y_train, fn, opt, loss_fn))\n",
        "toc = time.time()\n",
        "print('Time taken', toc - tic)"
      ],
      "metadata": {
        "colab": {
          "base_uri": "https://localhost:8080/"
        },
        "id": "weyhE7xPW90k",
        "outputId": "8e21f3c9-48b4-48f5-f87e-cb6d09895513"
      },
      "execution_count": null,
      "outputs": [
        {
          "output_type": "stream",
          "name": "stdout",
          "text": [
            "Final loss 1.3743454217910767\n",
            "Time taken 32.36965584754944\n"
          ]
        }
      ]
    }
  ]
}