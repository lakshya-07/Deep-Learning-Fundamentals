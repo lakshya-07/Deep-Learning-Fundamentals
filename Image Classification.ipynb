{
  "cells": [
    {
      "cell_type": "code",
      "execution_count": null,
      "id": "340d5ae8-7af7-4099-aa27-553ad2e477d6",
      "metadata": {
        "id": "340d5ae8-7af7-4099-aa27-553ad2e477d6"
      },
      "outputs": [],
      "source": [
        "import torch\n",
        "import torchvision\n",
        "import matplotlib.pyplot as plt\n",
        "import numpy as np\n",
        "import torchvision.transforms as transforms\n",
        "import torch.optim as optim"
      ]
    },
    {
      "cell_type": "code",
      "execution_count": null,
      "id": "492a156d-77be-4819-9db7-e156864a9ab4",
      "metadata": {
        "colab": {
          "base_uri": "https://localhost:8080/"
        },
        "id": "492a156d-77be-4819-9db7-e156864a9ab4",
        "outputId": "988da1b6-dce0-478f-baf6-bc908219870b"
      },
      "outputs": [
        {
          "output_type": "stream",
          "name": "stdout",
          "text": [
            "Downloading https://www.cs.toronto.edu/~kriz/cifar-10-python.tar.gz to ./data/cifar-10-python.tar.gz\n"
          ]
        },
        {
          "output_type": "stream",
          "name": "stderr",
          "text": [
            "100%|██████████| 170M/170M [00:04<00:00, 42.6MB/s]\n"
          ]
        },
        {
          "output_type": "stream",
          "name": "stdout",
          "text": [
            "Extracting ./data/cifar-10-python.tar.gz to ./data\n"
          ]
        }
      ],
      "source": [
        "trainset = torchvision.datasets.CIFAR10(\n",
        "    root='./data',\n",
        "    train = True,\n",
        "    download = True,\n",
        "    transform = transforms.ToTensor()\n",
        ")"
      ]
    },
    {
      "cell_type": "code",
      "execution_count": null,
      "id": "6c94e495-b431-4288-9487-9332d7d28a22",
      "metadata": {
        "id": "6c94e495-b431-4288-9487-9332d7d28a22"
      },
      "outputs": [],
      "source": [
        "classes = trainset.classes"
      ]
    },
    {
      "cell_type": "code",
      "execution_count": null,
      "id": "327124ce-fde2-4d5c-a14f-b6a154f5f1a5",
      "metadata": {
        "id": "327124ce-fde2-4d5c-a14f-b6a154f5f1a5"
      },
      "outputs": [],
      "source": [
        "trainloader = torch.utils.data.DataLoader(\n",
        "    trainset,\n",
        "    batch_size=4,\n",
        "    shuffle=True\n",
        ")"
      ]
    },
    {
      "cell_type": "code",
      "execution_count": null,
      "id": "cfe12d7f-133a-4fc5-8b24-8b4b58f16e98",
      "metadata": {
        "colab": {
          "base_uri": "https://localhost:8080/"
        },
        "id": "cfe12d7f-133a-4fc5-8b24-8b4b58f16e98",
        "outputId": "b7e9c417-dd9a-4960-a4f3-3ee7f5098c32"
      },
      "outputs": [
        {
          "output_type": "execute_result",
          "data": {
            "text/plain": [
              "torch.Size([3, 32, 32])"
            ]
          },
          "metadata": {},
          "execution_count": 5
        }
      ],
      "source": [
        "images, labels = next(iter(trainloader))\n",
        "images[0].shape"
      ]
    },
    {
      "cell_type": "code",
      "execution_count": null,
      "id": "ea237390-ef5b-48d5-8c97-572127a6ce71",
      "metadata": {
        "colab": {
          "base_uri": "https://localhost:8080/"
        },
        "id": "ea237390-ef5b-48d5-8c97-572127a6ce71",
        "outputId": "bf91b688-2cc1-4208-aad9-0e66990513ef"
      },
      "outputs": [
        {
          "output_type": "execute_result",
          "data": {
            "text/plain": [
              "torch.Size([4])"
            ]
          },
          "metadata": {},
          "execution_count": 6
        }
      ],
      "source": [
        "labels.shape"
      ]
    },
    {
      "cell_type": "markdown",
      "id": "41a7d255-91b5-457e-89d8-fff7421755bf",
      "metadata": {
        "id": "41a7d255-91b5-457e-89d8-fff7421755bf"
      },
      "source": [
        "## Visualization"
      ]
    },
    {
      "cell_type": "code",
      "execution_count": null,
      "id": "9bbbd161-1180-435a-be40-8a8a5c80af38",
      "metadata": {
        "id": "9bbbd161-1180-435a-be40-8a8a5c80af38"
      },
      "outputs": [],
      "source": [
        "def imshow(img):\n",
        "    img = np.transpose(img, (1,2,0))\n",
        "    plt.figure(figsize=(3,3))\n",
        "    plt.imshow(img)\n",
        "    plt.show()"
      ]
    },
    {
      "cell_type": "code",
      "execution_count": null,
      "id": "00a35aa8-c10d-4e49-80ca-0969fe9fd376",
      "metadata": {
        "colab": {
          "base_uri": "https://localhost:8080/",
          "height": 293
        },
        "id": "00a35aa8-c10d-4e49-80ca-0969fe9fd376",
        "outputId": "816f10f2-a6c2-4525-bb44-b955c822cba2"
      },
      "outputs": [
        {
          "output_type": "display_data",
          "data": {
            "text/plain": [
              "<Figure size 300x300 with 1 Axes>"
            ],
            "image/png": "[encoded data removed]"
          },
          "metadata": {}
        }
      ],
      "source": [
        "img = images[0]\n",
        "imshow(img)"
      ]
    },
    {
      "cell_type": "code",
      "execution_count": null,
      "id": "2e42cb56-a320-46f1-8e78-d522bc84a17f",
      "metadata": {
        "colab": {
          "base_uri": "https://localhost:8080/",
          "height": 195
        },
        "id": "2e42cb56-a320-46f1-8e78-d522bc84a17f",
        "outputId": "3432f638-1d6b-4dd1-d827-68466d2ade66"
      },
      "outputs": [
        {
          "output_type": "display_data",
          "data": {
            "text/plain": [
              "<Figure size 300x300 with 1 Axes>"
            ],
            "image/png": "[encoded data removed]"
          },
          "metadata": {}
        },
        {
          "output_type": "stream",
          "name": "stdout",
          "text": [
            "frog\n",
            "truck\n",
            "ship\n",
            "dog\n"
          ]
        }
      ],
      "source": [
        "imshow(torchvision.utils.make_grid(images))\n",
        "for i in range(4):\n",
        "    print(classes[labels[i]])"
      ]
    },
    {
      "cell_type": "markdown",
      "id": "03076ec8-4f59-4252-93f8-3ec00ff44390",
      "metadata": {
        "id": "03076ec8-4f59-4252-93f8-3ec00ff44390"
      },
      "source": [
        "## Single CNN"
      ]
    },
    {
      "cell_type": "code",
      "execution_count": null,
      "id": "2d3b5e95-9f70-4981-803d-0202454a61a1",
      "metadata": {
        "id": "2d3b5e95-9f70-4981-803d-0202454a61a1"
      },
      "outputs": [],
      "source": [
        "import torch.nn as nn"
      ]
    },
    {
      "cell_type": "code",
      "execution_count": null,
      "id": "d438ec25-c863-4181-b16f-821f356d3c5a",
      "metadata": {
        "id": "d438ec25-c863-4181-b16f-821f356d3c5a"
      },
      "outputs": [],
      "source": [
        "class SingleCNN(nn.Module):\n",
        "    def __init__(self):\n",
        "        super(SingleCNN,self).__init__()\n",
        "        self.conv1 = nn.Conv2d(3,16,3)\n",
        "\n",
        "\n",
        "    def forward(self,x):\n",
        "        return self.conv1(x)"
      ]
    },
    {
      "cell_type": "code",
      "execution_count": null,
      "id": "26c9ba19-2769-4474-81c5-ac7722921537",
      "metadata": {
        "colab": {
          "base_uri": "https://localhost:8080/"
        },
        "id": "26c9ba19-2769-4474-81c5-ac7722921537",
        "outputId": "70bd5beb-bdd1-46b1-aef1-b902434cb191"
      },
      "outputs": [
        {
          "output_type": "execute_result",
          "data": {
            "text/plain": [
              "torch.Size([16, 30, 30])"
            ]
          },
          "metadata": {},
          "execution_count": 12
        }
      ],
      "source": [
        "net = SingleCNN()\n",
        "out = net(images)\n",
        "out[0].shape"
      ]
    },
    {
      "cell_type": "code",
      "execution_count": null,
      "id": "43341271-b024-4fd2-8d72-06a476a77433",
      "metadata": {
        "colab": {
          "base_uri": "https://localhost:8080/"
        },
        "id": "43341271-b024-4fd2-8d72-06a476a77433",
        "outputId": "d85b9080-ca02-46b8-86e2-76cc735e956b"
      },
      "outputs": [
        {
          "output_type": "stream",
          "name": "stdout",
          "text": [
            "torch.Size([16, 3, 3, 3])\n",
            "torch.Size([16])\n"
          ]
        }
      ],
      "source": [
        "for param in net.parameters():\n",
        "    print(param.shape)"
      ]
    },
    {
      "cell_type": "markdown",
      "id": "7d3d9401-5846-4c0c-8dfb-6aaf44d55570",
      "metadata": {
        "id": "7d3d9401-5846-4c0c-8dfb-6aaf44d55570"
      },
      "source": [
        "## what the kernel has learnt?"
      ]
    },
    {
      "cell_type": "code",
      "execution_count": null,
      "id": "80241564-78aa-4f3b-8614-fd9e6d453523",
      "metadata": {
        "id": "80241564-78aa-4f3b-8614-fd9e6d453523"
      },
      "outputs": [],
      "source": [
        "first_out = out[3,15,:,:]"
      ]
    },
    {
      "cell_type": "code",
      "execution_count": null,
      "id": "0f82e4dc-e2d7-40fb-af13-fad870295cf5",
      "metadata": {
        "colab": {
          "base_uri": "https://localhost:8080/"
        },
        "id": "0f82e4dc-e2d7-40fb-af13-fad870295cf5",
        "outputId": "f9201fe4-15a0-4de2-d47e-3b530c055c9d"
      },
      "outputs": [
        {
          "output_type": "execute_result",
          "data": {
            "text/plain": [
              "torch.Size([30, 30])"
            ]
          },
          "metadata": {},
          "execution_count": 15
        }
      ],
      "source": [
        "first_out.shape"
      ]
    },
    {
      "cell_type": "code",
      "execution_count": null,
      "id": "30d97645-067d-4c54-bfff-8ecb9830e55e",
      "metadata": {
        "colab": {
          "base_uri": "https://localhost:8080/",
          "height": 293
        },
        "id": "30d97645-067d-4c54-bfff-8ecb9830e55e",
        "outputId": "ec818578-f42f-4d75-a7e0-c00fb5aa3401"
      },
      "outputs": [
        {
          "output_type": "display_data",
          "data": {
            "text/plain": [
              "<Figure size 300x300 with 1 Axes>"
            ],
            "image/png": "[encoded data removed]"
          },
          "metadata": {}
        }
      ],
      "source": [
        "plt.figure(figsize=(3,3))\n",
        "plt.imshow(first_out.detach())\n",
        "plt.show()"
      ]
    },
    {
      "cell_type": "markdown",
      "id": "e464d800-0d1f-41d9-9961-3d2cbdf7efc7",
      "metadata": {
        "id": "e464d800-0d1f-41d9-9961-3d2cbdf7efc7"
      },
      "source": [
        "## Deep CNN"
      ]
    },
    {
      "cell_type": "code",
      "execution_count": null,
      "id": "ad5a9531-6291-48cc-9df4-e4547270f3cd",
      "metadata": {
        "id": "ad5a9531-6291-48cc-9df4-e4547270f3cd"
      },
      "outputs": [],
      "source": [
        "class DeepCNN(nn.Module):\n",
        "\n",
        "    def __init__(self):\n",
        "        super(DeepCNN, self).__init__()\n",
        "        self.model = nn.Sequential(\n",
        "            nn.Conv2d(3,16,3), # padding = (1,1), stride = 2-> Size-> (N,3,32,32) -> (N,16,30,30)\n",
        "            nn.AvgPool2d(2,stride=2), # Size -> (N,16,30,30) -> (N,16,15,15)\n",
        "            nn.Conv2d(16,32,3) # Size -> (N,16,15,15) -> (N,32,13,13)\n",
        "        )\n",
        "\n",
        "    def forward(self,x):\n",
        "        return self.model(x)"
      ]
    },
    {
      "cell_type": "code",
      "execution_count": null,
      "id": "c328fda7-3531-41eb-b1cc-82809f521dcf",
      "metadata": {
        "colab": {
          "base_uri": "https://localhost:8080/"
        },
        "id": "c328fda7-3531-41eb-b1cc-82809f521dcf",
        "outputId": "3b69ab59-786e-4b61-9a0a-eef05d66e5ee"
      },
      "outputs": [
        {
          "output_type": "execute_result",
          "data": {
            "text/plain": [
              "torch.Size([32, 13, 13])"
            ]
          },
          "metadata": {},
          "execution_count": 18
        }
      ],
      "source": [
        "net = DeepCNN()\n",
        "out = net(images)\n",
        "out[0].shape"
      ]
    },
    {
      "cell_type": "code",
      "execution_count": null,
      "id": "677cba75-b0fe-46a3-ab36-301388a51386",
      "metadata": {
        "colab": {
          "base_uri": "https://localhost:8080/"
        },
        "id": "677cba75-b0fe-46a3-ab36-301388a51386",
        "outputId": "e07a82e8-9618-46a5-c312-1bfffd8acbb5"
      },
      "outputs": [
        {
          "output_type": "stream",
          "name": "stdout",
          "text": [
            "torch.Size([16, 3, 3, 3])\n",
            "torch.Size([16])\n",
            "torch.Size([32, 16, 3, 3])\n",
            "torch.Size([32])\n"
          ]
        }
      ],
      "source": [
        "for param in net.parameters():\n",
        "    print(param.shape)"
      ]
    },
    {
      "cell_type": "code",
      "execution_count": null,
      "id": "395d4372-af41-44c2-9aca-782080d82d14",
      "metadata": {
        "colab": {
          "base_uri": "https://localhost:8080/",
          "height": 291
        },
        "id": "395d4372-af41-44c2-9aca-782080d82d14",
        "outputId": "0ce6a5df-5373-4cf7-95e5-5d4c3c64cbcf"
      },
      "outputs": [
        {
          "output_type": "display_data",
          "data": {
            "text/plain": [
              "<Figure size 300x300 with 1 Axes>"
            ],
            "image/png": "[encoded data removed]"
          },
          "metadata": {}
        }
      ],
      "source": [
        "first_out = out[3,15,:,:]\n",
        "plt.figure(figsize=(3,3))\n",
        "plt.imshow(first_out.detach())\n",
        "plt.show()"
      ]
    },
    {
      "cell_type": "code",
      "execution_count": null,
      "id": "ee8bae5c-5ea7-4091-8e1c-266552fc333b",
      "metadata": {
        "id": "ee8bae5c-5ea7-4091-8e1c-266552fc333b"
      },
      "outputs": [],
      "source": [
        "class LeNet(nn.Module):\n",
        "    def __init__(self):\n",
        "        super(LeNet, self).__init__()\n",
        "        self.cnn_model = nn.Sequential(\n",
        "            nn.Conv2d(3, 6, 5),\n",
        "            nn.Tanh(),\n",
        "            nn.AvgPool2d(2, stride=2), # (N, 6, 28, 28) -> (N, 6, 14, 14)\n",
        "            nn.Conv2d(6, 16, 5), # (N, 6, 14, 14) -> (N, 6, 10, 10)\n",
        "            nn.Tanh(),\n",
        "            nn.AvgPool2d(2, stride=2) # (N, 16, 10, 10) -> (N, 16, 5, 5)\n",
        "        )\n",
        "        self.fc_model = nn.Sequential(\n",
        "            nn.Linear(400,120), #16x5x5\n",
        "            nn.Tanh(),\n",
        "            nn.Linear(120,84),\n",
        "            nn.Tanh(),\n",
        "            nn.Linear(84,10)\n",
        "        )\n",
        "    def forward(self, x):\n",
        "        x = self.cnn_model(x)\n",
        "        x = x.view(x.size(0),-1) # flatten\n",
        "        x = self.fc_model(x)\n",
        "        return x\n"
      ]
    },
    {
      "cell_type": "code",
      "execution_count": null,
      "id": "5e72ccac-92f1-4ecb-b4c5-cf2b54be5f07",
      "metadata": {
        "colab": {
          "base_uri": "https://localhost:8080/"
        },
        "id": "5e72ccac-92f1-4ecb-b4c5-cf2b54be5f07",
        "outputId": "c4985013-4394-4e19-a5b6-44ef4addab6f"
      },
      "outputs": [
        {
          "output_type": "execute_result",
          "data": {
            "text/plain": [
              "tensor([[ 0.0353,  0.0629,  0.0043, -0.0905, -0.0617, -0.0127,  0.1015, -0.1489,\n",
              "         -0.0278,  0.0279],\n",
              "        [ 0.0438,  0.0690,  0.0026, -0.0860, -0.0639, -0.0110,  0.0898, -0.1715,\n",
              "         -0.0258, -0.0014],\n",
              "        [ 0.0737,  0.0748,  0.0043, -0.0962, -0.0679, -0.0218,  0.1201, -0.1597,\n",
              "         -0.0340,  0.0288],\n",
              "        [ 0.0725,  0.0791,  0.0110, -0.0881, -0.0474, -0.0030,  0.0914, -0.1735,\n",
              "         -0.0607,  0.0120]], grad_fn=<AddmmBackward0>)"
            ]
          },
          "metadata": {},
          "execution_count": 25
        }
      ],
      "source": [
        "net = LeNet()\n",
        "out = net(images)\n",
        "out"
      ]
    },
    {
      "cell_type": "code",
      "execution_count": null,
      "id": "8dde01c8-cb02-42fe-ae29-d2c9bc8c36bb",
      "metadata": {
        "colab": {
          "base_uri": "https://localhost:8080/"
        },
        "id": "8dde01c8-cb02-42fe-ae29-d2c9bc8c36bb",
        "outputId": "3aff0ee5-1012-4892-a794-77bfdc1a953d"
      },
      "outputs": [
        {
          "output_type": "execute_result",
          "data": {
            "text/plain": [
              "torch.return_types.max(\n",
              "values=tensor([0.1015, 0.0898, 0.1201, 0.0914]),\n",
              "indices=tensor([6, 6, 6, 6]))"
            ]
          },
          "metadata": {},
          "execution_count": 26
        }
      ],
      "source": [
        "torch.max(out.data,1)"
      ]
    },
    {
      "cell_type": "code",
      "execution_count": null,
      "id": "186a5b1a-c884-4327-8c10-67fba67fc357",
      "metadata": {
        "colab": {
          "base_uri": "https://localhost:8080/"
        },
        "id": "186a5b1a-c884-4327-8c10-67fba67fc357",
        "outputId": "8ef67744-5a4b-4607-8c5e-548e2112a99d"
      },
      "outputs": [
        {
          "output_type": "stream",
          "name": "stdout",
          "text": [
            "Files already downloaded and verified\n",
            "Files already downloaded and verified\n"
          ]
        }
      ],
      "source": [
        "batch_size = 4\n",
        "trainset = torchvision.datasets.CIFAR10(\n",
        "    root='./data',\n",
        "    train = True,\n",
        "    download = True,\n",
        "    transform = transforms.ToTensor()\n",
        ")\n",
        "\n",
        "trainloader = torch.utils.data.DataLoader(\n",
        "    trainset,\n",
        "    batch_size=batch_size,\n",
        "    shuffle=True\n",
        ")\n",
        "\n",
        "testset = torchvision.datasets.CIFAR10(\n",
        "    root='./data',\n",
        "    train = False,\n",
        "    download = True,\n",
        "    transform = transforms.ToTensor()\n",
        ")\n",
        "\n",
        "testloader = torch.utils.data.DataLoader(\n",
        "    testset,\n",
        "    batch_size=batch_size,\n",
        "    shuffle=False\n",
        ")"
      ]
    },
    {
      "cell_type": "code",
      "execution_count": null,
      "id": "ad13aeeb-ecd3-471e-97cc-cb9993a9fece",
      "metadata": {
        "id": "ad13aeeb-ecd3-471e-97cc-cb9993a9fece"
      },
      "outputs": [],
      "source": [
        "def evaluation(dataloader):\n",
        "    total, correct = 0, 0\n",
        "    for data in dataloader:\n",
        "        inputs, labels = data\n",
        "        outputs = net(inputs)\n",
        "        _, pred = torch.max(outputs.data, 1)\n",
        "        total += labels.size(0)\n",
        "        correct += (pred == labels).sum().item()\n",
        "    return 100 * correct / total"
      ]
    },
    {
      "cell_type": "code",
      "source": [
        "# Loss function and optimizer\n",
        "loss_fn = nn.CrossEntropyLoss()\n",
        "opt = optim.Adam(net.parameters())#weight_decay = 0.9)"
      ],
      "metadata": {
        "id": "4-7WSj6-EDFQ"
      },
      "id": "4-7WSj6-EDFQ",
      "execution_count": null,
      "outputs": []
    },
    {
      "cell_type": "code",
      "source": [
        "# Model training\n",
        "loss_epoch_arr = []\n",
        "max_epochs = 16\n",
        "\n",
        "for epoch in range(max_epochs):\n",
        "    for i, data in enumerate(trainloader, 0):\n",
        "        inputs, labels = data\n",
        "\n",
        "        outputs = net(inputs)\n",
        "        loss = loss_fn(outputs, labels)\n",
        "        loss.backward()\n",
        "        opt.step()\n",
        "\n",
        "        opt.zero_grad()\n",
        "\n",
        "\n",
        "    loss_epoch_arr.append(loss.item())\n",
        "\n",
        "    print('Epoch: %d/%d, Test acc: %0.2f, Train acc: %0.2f'\n",
        "    % (epoch,max_epochs, evaluation(testloader), evaluation(trainloader)))\n",
        "\n",
        "plt.plot(loss_epoch_arr)"
      ],
      "metadata": {
        "colab": {
          "base_uri": "https://localhost:8080/",
          "height": 725
        },
        "id": "pqTj21_lB2sQ",
        "outputId": "badb80ad-1a0f-4140-9696-6abef9df9f09"
      },
      "id": "pqTj21_lB2sQ",
      "execution_count": null,
      "outputs": [
        {
          "output_type": "stream",
          "name": "stdout",
          "text": [
            "Epoch: 0/16, Test acc: 39.46, Train acc: 39.56\n",
            "Epoch: 1/16, Test acc: 44.33, Train acc: 45.22\n",
            "Epoch: 2/16, Test acc: 44.81, Train acc: 46.25\n",
            "Epoch: 3/16, Test acc: 46.15, Train acc: 47.91\n",
            "Epoch: 4/16, Test acc: 48.66, Train acc: 51.25\n",
            "Epoch: 5/16, Test acc: 48.42, Train acc: 50.83\n",
            "Epoch: 6/16, Test acc: 49.05, Train acc: 51.55\n",
            "Epoch: 7/16, Test acc: 50.23, Train acc: 52.36\n",
            "Epoch: 8/16, Test acc: 49.59, Train acc: 53.54\n",
            "Epoch: 9/16, Test acc: 50.14, Train acc: 53.98\n",
            "Epoch: 10/16, Test acc: 50.11, Train acc: 53.89\n",
            "Epoch: 11/16, Test acc: 49.75, Train acc: 53.95\n",
            "Epoch: 12/16, Test acc: 51.60, Train acc: 55.97\n",
            "Epoch: 13/16, Test acc: 50.65, Train acc: 55.11\n",
            "Epoch: 14/16, Test acc: 51.27, Train acc: 55.45\n",
            "Epoch: 15/16, Test acc: 51.47, Train acc: 57.00\n"
          ]
        },
        {
          "output_type": "execute_result",
          "data": {
            "text/plain": [
              "[<matplotlib.lines.Line2D at 0x7be0bb7f5e10>]"
            ]
          },
          "metadata": {},
          "execution_count": 39
        },
        {
          "output_type": "display_data",
          "data": {
            "text/plain": [
              "<Figure size 640x480 with 1 Axes>"
            ],
            "image/png": "[encoded data removed]"
          },
          "metadata": {}
        }
      ]
    }
  ],
  "metadata": {
    "kernelspec": {
      "display_name": "Python 3 (ipykernel)",
      "language": "python",
      "name": "python3"
    },
    "language_info": {
      "codemirror_mode": {
        "name": "ipython",
        "version": 3
      },
      "file_extension": ".py",
      "mimetype": "text/x-python",
      "name": "python",
      "nbconvert_exporter": "python",
      "pygments_lexer": "ipython3",
      "version": "3.13.0"
    },
    "colab": {
      "provenance": []
    }
  },
  "nbformat": 4,
  "nbformat_minor": 5
}