{
  "cells": [
    {
      "cell_type": "markdown",
      "metadata": {
        "id": "V_Yj3GcSLCmw"
      },
      "source": [
        "**Working with torch**"
      ]
    },
    {
      "cell_type": "code",
      "execution_count": null,
      "metadata": {
        "id": "KyyNIxTBKNyk"
      },
      "outputs": [],
      "source": [
        "import torch"
      ]
    },
    {
      "cell_type": "code",
      "execution_count": null,
      "metadata": {
        "colab": {
          "base_uri": "https://localhost:8080/"
        },
        "id": "cVCH9_TbKOVg",
        "outputId": "c699f0e5-9ce8-4000-96c1-2900b844c497"
      },
      "outputs": [
        {
          "name": "stdout",
          "output_type": "stream",
          "text": [
            "tensor([[1., 1.],\n",
            "        [1., 1.],\n",
            "        [1., 1.]], requires_grad=True)\n"
          ]
        }
      ],
      "source": [
        "x = torch.ones(3,2,requires_grad=True)\n",
        "print(x)"
      ]
    },
    {
      "cell_type": "code",
      "execution_count": null,
      "metadata": {
        "colab": {
          "base_uri": "https://localhost:8080/"
        },
        "id": "OLstvQEPKOYW",
        "outputId": "2cd77e2a-53bf-46b0-cb78-077625292269"
      },
      "outputs": [
        {
          "name": "stdout",
          "output_type": "stream",
          "text": [
            "tensor([[ 1.2015, -0.8402],\n",
            "        [ 1.1690,  1.8421],\n",
            "        [ 0.2069, -0.2384]], requires_grad=True)\n"
          ]
        },
        {
          "data": {
            "text/plain": [
              "tensor([[ 1.2015, -0.8402,  1.1690],\n",
              "        [ 1.8421,  0.2069, -0.2384]], grad_fn=<ViewBackward0>)"
            ]
          },
          "execution_count": 3,
          "metadata": {},
          "output_type": "execute_result"
        }
      ],
      "source": [
        "x = torch.randn(3,2,requires_grad=True)\n",
        "print(x)\n",
        "x.view(2,3)"
      ]
    },
    {
      "cell_type": "code",
      "execution_count": null,
      "metadata": {
        "colab": {
          "base_uri": "https://localhost:8080/"
        },
        "id": "RAkQ6TSkKObj",
        "outputId": "947f3875-c1f4-40a2-9a17-fe10863e8b35"
      },
      "outputs": [
        {
          "name": "stdout",
          "output_type": "stream",
          "text": [
            "tensor([[1.6922e-24, 4.4617e-41],\n",
            "        [1.6922e-24, 4.4617e-41],\n",
            "        [4.4842e-44, 0.0000e+00]], requires_grad=True)\n"
          ]
        }
      ],
      "source": [
        "x = torch.empty(3,2,requires_grad=True)\n",
        "print(x)"
      ]
    },
    {
      "cell_type": "code",
      "execution_count": null,
      "metadata": {
        "colab": {
          "base_uri": "https://localhost:8080/"
        },
        "id": "VaNEQKVzKOeO",
        "outputId": "098c232d-14e4-4ec5-cd9b-0a7c28577e20"
      },
      "outputs": [
        {
          "name": "stdout",
          "output_type": "stream",
          "text": [
            "tensor([ 1.0000,  3.2500,  5.5000,  7.7500, 10.0000], requires_grad=True)\n"
          ]
        },
        {
          "data": {
            "text/plain": [
              "torch.Size([5])"
            ]
          },
          "execution_count": 5,
          "metadata": {},
          "output_type": "execute_result"
        }
      ],
      "source": [
        "x = torch.linspace(1,10,5,requires_grad=True)\n",
        "print(x)\n",
        "x.size()"
      ]
    },
    {
      "cell_type": "code",
      "execution_count": null,
      "metadata": {
        "id": "pmBAFnaAKOgv"
      },
      "outputs": [],
      "source": [
        "# x[:,1],x[1,1].item()"
      ]
    },
    {
      "cell_type": "code",
      "execution_count": null,
      "metadata": {
        "colab": {
          "base_uri": "https://localhost:8080/"
        },
        "id": "Jm1XWW2UKOje",
        "outputId": "06b07569-00c9-40cb-c9c8-5792b0c31c56"
      },
      "outputs": [
        {
          "name": "stdout",
          "output_type": "stream",
          "text": [
            "tensor([[0.2582, 1.2976],\n",
            "        [1.6528, 0.1903],\n",
            "        [1.3796, 1.1606]], grad_fn=<AddBackward0>)\n",
            "tensor([[0.0119, 0.3944],\n",
            "        [0.6815, 0.0090],\n",
            "        [0.4285, 0.2574]], grad_fn=<MulBackward0>)\n",
            "tensor([[0.4063, 0.1213, 0.7544],\n",
            "        [0.2194, 0.6905, 0.8704],\n",
            "        [0.2385, 0.3992, 0.6858]], grad_fn=<MmBackward0>)\n"
          ]
        }
      ],
      "source": [
        "x = torch.rand(3,2,requires_grad=True)\n",
        "y = torch.rand(3,2,requires_grad=True)\n",
        "print(x+y)\n",
        "print(x*y)\n",
        "print(x@y.T)"
      ]
    },
    {
      "cell_type": "code",
      "execution_count": null,
      "metadata": {
        "id": "e-zKiwgjKS31"
      },
      "outputs": [],
      "source": [
        "import numpy as np"
      ]
    },
    {
      "cell_type": "code",
      "execution_count": null,
      "metadata": {
        "colab": {
          "base_uri": "https://localhost:8080/"
        },
        "id": "phctKpT2P1qb",
        "outputId": "7e0fe20b-710c-491a-8c40-671ee49779f5"
      },
      "outputs": [
        {
          "name": "stdout",
          "output_type": "stream",
          "text": [
            "[[1 2 3]\n",
            " [4 5 6]]\n",
            "tensor([[1, 2, 3],\n",
            "        [4, 5, 6]])\n"
          ]
        }
      ],
      "source": [
        "a = np.array([[1,2,3],[4,5,6]])\n",
        "print(a)\n",
        "print(torch.from_numpy(a))"
      ]
    },
    {
      "cell_type": "code",
      "execution_count": null,
      "metadata": {
        "colab": {
          "base_uri": "https://localhost:8080/"
        },
        "id": "Uvqe-L8wP1ty",
        "outputId": "90b90793-4d17-45ba-f34e-09e9ea9931d0"
      },
      "outputs": [
        {
          "data": {
            "text/plain": [
              "1"
            ]
          },
          "execution_count": 10,
          "metadata": {},
          "output_type": "execute_result"
        }
      ],
      "source": [
        "torch.cuda.device_count()"
      ]
    },
    {
      "cell_type": "code",
      "execution_count": null,
      "metadata": {
        "colab": {
          "base_uri": "https://localhost:8080/",
          "height": 35
        },
        "id": "iTOEAILwQhfX",
        "outputId": "42274262-30dc-45e7-ed19-1e1618fb6c76"
      },
      "outputs": [
        {
          "data": {
            "application/vnd.google.colaboratory.intrinsic+json": {
              "type": "string"
            },
            "text/plain": [
              "'Tesla T4'"
            ]
          },
          "execution_count": 11,
          "metadata": {},
          "output_type": "execute_result"
        }
      ],
      "source": [
        "cuda0 = torch.cuda.get_device_name(0)\n",
        "cuda0"
      ]
    },
    {
      "cell_type": "code",
      "execution_count": null,
      "metadata": {
        "colab": {
          "base_uri": "https://localhost:8080/"
        },
        "id": "lDaMbeDyQhYP",
        "outputId": "d18fe405-26a7-411e-bdbc-8dd383adbdcb"
      },
      "outputs": [
        {
          "name": "stdout",
          "output_type": "stream",
          "text": [
            "tensor([[1., 1.],\n",
            "        [1., 1.],\n",
            "        [1., 1.]], device='cuda:0')\n",
            "tensor([[0.3833, 0.0962],\n",
            "        [0.5183, 0.4519],\n",
            "        [0.5969, 0.8786]], device='cuda:0')\n",
            "tensor([[1.3833, 1.0962],\n",
            "        [1.5183, 1.4519],\n",
            "        [1.5969, 1.8786]], device='cuda:0')\n"
          ]
        }
      ],
      "source": [
        "a = torch.ones(3,2, device = 'cuda')\n",
        "print(a)\n",
        "b = torch.rand(3,2, device = 'cuda')\n",
        "print(b)\n",
        "print(a+b)"
      ]
    },
    {
      "cell_type": "code",
      "execution_count": null,
      "metadata": {
        "colab": {
          "base_uri": "https://localhost:8080/"
        },
        "id": "j0ZGag8WQhiv",
        "outputId": "611fdf14-28b5-4dfb-d86a-c034f0f9c51b"
      },
      "outputs": [
        {
          "name": "stdout",
          "output_type": "stream",
          "text": [
            "The slowest run took 313.22 times longer than the fastest. This could mean that an intermediate result is being cached.\n",
            "4.92 ms ± 7.63 ms per loop (mean ± std. dev. of 7 runs, 1 loop each)\n"
          ]
        }
      ],
      "source": [
        "%%timeit\n",
        "a = torch.ones(3,2, device = 'cuda')\n",
        "b = torch.rand(3,2, device = 'cuda')\n",
        "c = a@b.T"
      ]
    },
    {
      "cell_type": "code",
      "execution_count": null,
      "metadata": {
        "colab": {
          "base_uri": "https://localhost:8080/"
        },
        "id": "zT6lbAfgQhs3",
        "outputId": "0ab87764-d71e-459d-b8c1-caf847ad0294"
      },
      "outputs": [
        {
          "name": "stdout",
          "output_type": "stream",
          "text": [
            "6.01 ms ± 1.12 ms per loop (mean ± std. dev. of 7 runs, 100 loops each)\n"
          ]
        }
      ],
      "source": [
        "%%timeit\n",
        "for i in range(100):\n",
        "  a = torch.ones(10,2, device = 'cuda')\n",
        "  b = torch.rand(3,2, device = 'cuda')\n",
        "  c = a@b.T"
      ]
    },
    {
      "cell_type": "code",
      "execution_count": null,
      "metadata": {
        "colab": {
          "base_uri": "https://localhost:8080/",
          "height": 41
        },
        "id": "j22MX0sHQhw3",
        "outputId": "09af6ef9-e5cc-4a83-c1db-99e0c15be4a5"
      },
      "outputs": [
        {
          "data": {
            "text/latex": [
              "$\\displaystyle 12 x \\left(x^{2} + 1\\right)^{2} + 6 x$"
            ],
            "text/plain": [
              "12*x*(x**2 + 1)**2 + 6*x"
            ]
          },
          "execution_count": 15,
          "metadata": {},
          "output_type": "execute_result"
        }
      ],
      "source": [
        "import sympy as sp\n",
        "x = sp.symbols('x')\n",
        "y = sp.symbols('y')\n",
        "z = sp.symbols('z')\n",
        "\n",
        "y = x**2 + 1\n",
        "sp.diff(2*y**3 +3*y +5,x)"
      ]
    },
    {
      "cell_type": "code",
      "execution_count": null,
      "metadata": {
        "colab": {
          "base_uri": "https://localhost:8080/"
        },
        "id": "7gAJwgJ5P1xS",
        "outputId": "d3acff6c-f939-4163-f267-20b93f310630"
      },
      "outputs": [
        {
          "data": {
            "text/plain": [
              "tensor([[6., 6.],\n",
              "        [6., 6.],\n",
              "        [6., 6.]], grad_fn=<AddBackward0>)"
            ]
          },
          "execution_count": 16,
          "metadata": {},
          "output_type": "execute_result"
        }
      ],
      "source": [
        "#Auto differentiation\n",
        "\n",
        "x = torch.ones(3,2,requires_grad=True)\n",
        "y = x+5\n",
        "y"
      ]
    },
    {
      "cell_type": "code",
      "execution_count": null,
      "metadata": {
        "colab": {
          "base_uri": "https://localhost:8080/"
        },
        "id": "ZfZDpN3oP10O",
        "outputId": "b87ab8fd-4257-4c24-b927-61f0ff0e028a"
      },
      "outputs": [
        {
          "data": {
            "text/plain": [
              "tensor([[39., 39.],\n",
              "        [39., 39.],\n",
              "        [39., 39.]], grad_fn=<AddBackward0>)"
            ]
          },
          "execution_count": 17,
          "metadata": {},
          "output_type": "execute_result"
        }
      ],
      "source": [
        "z = y*y +3\n",
        "z"
      ]
    },
    {
      "cell_type": "code",
      "execution_count": null,
      "metadata": {
        "colab": {
          "base_uri": "https://localhost:8080/"
        },
        "id": "ysRZHZXcP13c",
        "outputId": "9d0b33c6-f18e-4c5d-9445-61852a639b30"
      },
      "outputs": [
        {
          "data": {
            "text/plain": [
              "tensor(234., grad_fn=<SumBackward0>)"
            ]
          },
          "execution_count": 18,
          "metadata": {},
          "output_type": "execute_result"
        }
      ],
      "source": [
        "t = torch.sum(z)\n",
        "t"
      ]
    },
    {
      "cell_type": "code",
      "execution_count": null,
      "metadata": {
        "colab": {
          "base_uri": "https://localhost:8080/"
        },
        "id": "f8WGpz2GXqlB",
        "outputId": "738c107d-2643-4038-feba-c892c06cdc26"
      },
      "outputs": [
        {
          "data": {
            "text/plain": [
              "tensor([[12., 12.],\n",
              "        [12., 12.],\n",
              "        [12., 12.]])"
            ]
          },
          "execution_count": 19,
          "metadata": {},
          "output_type": "execute_result"
        }
      ],
      "source": [
        "t.backward()\n",
        "x.grad"
      ]
    },
    {
      "cell_type": "code",
      "execution_count": null,
      "metadata": {
        "colab": {
          "base_uri": "https://localhost:8080/"
        },
        "id": "Z6xUJ07AXq0f",
        "outputId": "50331186-6d27-4e40-95f9-54ff1b2eb156"
      },
      "outputs": [
        {
          "data": {
            "text/plain": [
              "tensor([[4.1113, 5.5409],\n",
              "        [0.7981, 2.0032],\n",
              "        [4.2665, 4.9845]], grad_fn=<AddBackward0>)"
            ]
          },
          "execution_count": 20,
          "metadata": {},
          "output_type": "execute_result"
        }
      ],
      "source": [
        "x = torch.randn(3,2,requires_grad=True)\n",
        "y = 3*x+5\n",
        "y"
      ]
    },
    {
      "cell_type": "code",
      "execution_count": null,
      "metadata": {
        "id": "4tXKCXd4Xq7S"
      },
      "outputs": [],
      "source": [
        "x = torch.rand(20,1,requires_grad=True)\n",
        "y = 3*x-2"
      ]
    },
    {
      "cell_type": "code",
      "execution_count": null,
      "metadata": {
        "id": "wJ8vVddBZ6_L"
      },
      "outputs": [],
      "source": [
        "from logging import logProcesses\n",
        "w = torch.tensor([1.], requires_grad=True)\n",
        "b = torch.tensor([1.], requires_grad=True)\n",
        "y_hat = w*x + b\n",
        "los = torch.sum((y-y_hat)**2)\n",
        "los.backward()"
      ]
    },
    {
      "cell_type": "code",
      "execution_count": null,
      "metadata": {
        "colab": {
          "base_uri": "https://localhost:8080/"
        },
        "id": "pR73_mlnZ916",
        "outputId": "02591bef-a9c7-43e9-fe8d-b214b1c20817"
      },
      "outputs": [
        {
          "name": "stdout",
          "output_type": "stream",
          "text": [
            "tensor([39.0622])\n",
            "tensor([69.9267])\n"
          ]
        }
      ],
      "source": [
        "print(w.grad)\n",
        "print(b.grad)"
      ]
    }
  ],
  "metadata": {
    "accelerator": "GPU",
    "colab": {
      "gpuType": "T4",
      "provenance": []
    },
    "kernelspec": {
      "display_name": "Python 3",
      "name": "python3"
    },
    "language_info": {
      "name": "python"
    }
  },
  "nbformat": 4,
  "nbformat_minor": 0
}
